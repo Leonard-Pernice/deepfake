{
 "cells": [
  {
   "cell_type": "code",
   "execution_count": 65,
   "metadata": {},
   "outputs": [],
   "source": [
    "import os\n",
    "import IPython.display as ipd\n",
    "import pandas as pd\n",
    "import matplotlib.pylab as plt\n",
    "import cv2"
   ]
  },
  {
   "cell_type": "code",
   "execution_count": 97,
   "metadata": {},
   "outputs": [
    {
     "name": "stdout",
     "output_type": "stream",
     "text": [
      "C:\\Users\\leon_\\Documents\\Git\\fastai\\train_sample_videos\n"
     ]
    }
   ],
   "source": [
    "cd ~/Documents/Git/fastai/train_sample_videos\n"
   ]
  },
  {
   "cell_type": "code",
   "execution_count": 63,
   "metadata": {},
   "outputs": [],
   "source": [
    "train_sample_metadata = pd.read_json('metadata.json').T\n",
    "#train_sample_metadata\n",
    "#test = ipd.Video(\"aassnaulhq.mp4\", embed=True)"
   ]
  },
  {
   "cell_type": "code",
   "execution_count": 66,
   "metadata": {},
   "outputs": [
    {
     "name": "stdout",
     "output_type": "stream",
     "text": [
      "The number of frames saved:  300\n"
     ]
    }
   ],
   "source": [
    "video_file = 'akxoopqjqz.mp4'\n",
    "\n",
    "cap = cv2.VideoCapture(video_file)\n",
    "\n",
    "frames = []\n",
    "while(cap.isOpened()):\n",
    "    ret, frame = cap.read()\n",
    "    if ret==True:\n",
    "        frames.append(frame)\n",
    "        if cv2.waitKey(1) & 0xFF == ord('q'):\n",
    "            break\n",
    "    else:\n",
    "        break\n",
    "cap.release()\n",
    "\n",
    "print('The number of frames saved: ', len(frames))\n",
    "\n"
   ]
  },
  {
   "cell_type": "code",
   "execution_count": 75,
   "metadata": {},
   "outputs": [
    {
     "name": "stdout",
     "output_type": "stream",
     "text": [
      "1920\n",
      "1920\n",
      "1080\n"
     ]
    }
   ],
   "source": [
    "print(len(frames[1][1]))\n",
    "print(len(frames[1][2]))\n",
    "print(len(frames[1]))"
   ]
  },
  {
   "cell_type": "code",
   "execution_count": 90,
   "metadata": {},
   "outputs": [],
   "source": [
    "ls = []\n",
    "for file in os.listdir(\"train_sample_videos/\"):\n",
    "    if file.endswith(\".mp4\"):\n",
    "        ls.append(file)\n",
    "#print(ls)"
   ]
  },
  {
   "cell_type": "code",
   "execution_count": 102,
   "metadata": {},
   "outputs": [
    {
     "data": {
      "text/plain": [
       "['aagfhgtpmv.mp4',\n",
       " 'aapnvogymq.mp4',\n",
       " 'abarnvbtwb.mp4',\n",
       " 'abofeumbvv.mp4',\n",
       " 'abqwwspghj.mp4',\n",
       " 'acifjvzvpm.mp4',\n",
       " 'acqfdwsrhi.mp4',\n",
       " 'acxnxvbsxk.mp4',\n",
       " 'acxwigylke.mp4',\n",
       " 'aczrgyricp.mp4',\n",
       " 'adhsbajydo.mp4',\n",
       " 'adohikbdaz.mp4',\n",
       " 'adylbeequz.mp4',\n",
       " 'aelfnikyqj.mp4',\n",
       " 'aelzhcnwgf.mp4']"
      ]
     },
     "execution_count": 102,
     "metadata": {},
     "output_type": "execute_result"
    }
   ],
   "source": [
    "ls[0:15]"
   ]
  },
  {
   "cell_type": "code",
   "execution_count": 99,
   "metadata": {},
   "outputs": [
    {
     "ename": "SyntaxError",
     "evalue": "invalid syntax (<ipython-input-99-208f53b81335>, line 18)",
     "output_type": "error",
     "traceback": [
      "\u001b[1;36m  File \u001b[1;32m\"<ipython-input-99-208f53b81335>\"\u001b[1;36m, line \u001b[1;32m18\u001b[0m\n\u001b[1;33m    def iterator(liste[1:15]):\u001b[0m\n\u001b[1;37m                      ^\u001b[0m\n\u001b[1;31mSyntaxError\u001b[0m\u001b[1;31m:\u001b[0m invalid syntax\n"
     ]
    }
   ],
   "source": [
    "def frame_loader(video):\n",
    "    \n",
    "    cap = cv2.VideoCapture(video_file)\n",
    "\n",
    "    frames = []\n",
    "    while(cap.isOpened()):\n",
    "        ret, frame = cap.read()\n",
    "        if ret==True:\n",
    "            frames.append(frame)\n",
    "            if cv2.waitKey(1) & 0xFF == ord('q'):\n",
    "                break\n",
    "        else:\n",
    "            break\n",
    "    cap.release()\n",
    "    for frame in frames:\n",
    "        \n",
    "\n",
    "    print('The number of frames saved: ', len(frames))\n",
    "\n",
    "def iterator(liste):\n",
    "    frames = []\n",
    "    for video_file in liste:\n",
    "        #video_file = 'akxoopqjqz.mp4'\n",
    "        frames.append([video_file, frame_loader(video_file)])\n",
    "    return frames\n",
    "        \n"
   ]
  },
  {
   "cell_type": "code",
   "execution_count": 105,
   "metadata": {},
   "outputs": [
    {
     "name": "stdout",
     "output_type": "stream",
     "text": [
      "The number of frames saved:  300\n"
     ]
    }
   ],
   "source": [
    "all_frames = frame_loader(ls[0:1])"
   ]
  },
  {
   "cell_type": "code",
   "execution_count": 122,
   "metadata": {},
   "outputs": [
    {
     "name": "stdout",
     "output_type": "stream",
     "text": [
      "300\n",
      "1080\n",
      "1920\n",
      "3\n"
     ]
    }
   ],
   "source": [
    "print(len(frames))\n",
    "print(len(frames[1]))\n",
    "print(len(frames[1][1]))\n",
    "print(len(frames[1][1][1]))\n",
    "\n",
    "x = range(0,len(frames))\n",
    "i = 0\n",
    "indeces = [[],[]]\n",
    "for n in x: \n",
    "    if n%2 == 0:\n",
    "        indeces[0].append(i)\n",
    "        j = i + 1\n",
    "        indeces[1].append(j)\n",
    "    i+=1"
   ]
  },
  {
   "cell_type": "code",
   "execution_count": null,
   "metadata": {},
   "outputs": [],
   "source": []
  },
  {
   "cell_type": "code",
   "execution_count": null,
   "metadata": {},
   "outputs": [],
   "source": []
  },
  {
   "cell_type": "code",
   "execution_count": null,
   "metadata": {},
   "outputs": [],
   "source": []
  },
  {
   "cell_type": "code",
   "execution_count": null,
   "metadata": {},
   "outputs": [],
   "source": []
  }
 ],
 "metadata": {
  "kernelspec": {
   "display_name": "Python 3",
   "language": "python",
   "name": "python3"
  },
  "language_info": {
   "codemirror_mode": {
    "name": "ipython",
    "version": 3
   },
   "file_extension": ".py",
   "mimetype": "text/x-python",
   "name": "python",
   "nbconvert_exporter": "python",
   "pygments_lexer": "ipython3",
   "version": "3.6.10"
  }
 },
 "nbformat": 4,
 "nbformat_minor": 2
}

{
 "cells": [
  {
   "cell_type": "code",
   "execution_count": 37,
   "metadata": {},
   "outputs": [],
   "source": [
    "import os\n",
    "import IPython.display as ipd\n",
    "import pandas as pd\n",
    "import matplotlib.pylab as plt\n",
    "import cv2\n",
    "import numpy as np"
   ]
  },
  {
   "cell_type": "code",
   "execution_count": 31,
   "metadata": {},
   "outputs": [
    {
     "name": "stdout",
     "output_type": "stream",
     "text": [
      "C:\\Users\\leon_\\Documents\\Git\\fastai\\train_sample_videos\n"
     ]
    }
   ],
   "source": [
    "cd ~/Documents/Git/fastai/train_sample_videos\n"
   ]
  },
  {
   "cell_type": "code",
   "execution_count": 32,
   "metadata": {},
   "outputs": [],
   "source": [
    "train_sample_metadata = pd.read_json('metadata.json').T\n",
    "#train_sample_metadata\n",
    "#test = ipd.Video(\"aassnaulhq.mp4\", embed=True)"
   ]
  },
  {
   "cell_type": "code",
   "execution_count": 33,
   "metadata": {},
   "outputs": [
    {
     "name": "stdout",
     "output_type": "stream",
     "text": [
      "The number of frames saved:  300\n"
     ]
    }
   ],
   "source": [
    "video_file = 'akxoopqjqz.mp4'\n",
    "\n",
    "cap = cv2.VideoCapture(video_file)\n",
    "\n",
    "frames = []\n",
    "while(cap.isOpened()):\n",
    "    ret, frame = cap.read()\n",
    "    if ret==True:\n",
    "        frames.append(frame)\n",
    "        if cv2.waitKey(1) & 0xFF == ord('q'):\n",
    "            break\n",
    "    else:\n",
    "        break\n",
    "cap.release()\n",
    "\n",
    "print('The number of frames saved: ', len(frames))\n",
    "\n"
   ]
  },
  {
   "cell_type": "code",
   "execution_count": 46,
   "metadata": {},
   "outputs": [],
   "source": [
    "test = frames\n",
    "\n",
    "nptest = np.asarray(test)\n",
    "\n",
    "# All frames in one vector\n",
    "nptest = nptest.reshape((300,1920*1080*3))"
   ]
  },
  {
   "cell_type": "code",
   "execution_count": 61,
   "metadata": {},
   "outputs": [],
   "source": [
    "# Project Frame differences\n",
    "\n",
    "np.shape(nptest)\n",
    "\n",
    "nptestdiff = np.diff(nptest)\n",
    "\n",
    "nptestdiff2 = nptest[1:len(nptest)]-nptest[0:len(nptest)-1]\n"
   ]
  },
  {
   "cell_type": "code",
   "execution_count": 69,
   "metadata": {},
   "outputs": [
    {
     "name": "stdout",
     "output_type": "stream",
     "text": [
      "(299, 6220800)\n",
      "140\n",
      "165\n",
      "0\n",
      "[[140 165 166 ...  77  95 102]\n",
      " [140 165 166 ...  76  94 101]\n",
      " [140 166 164 ...  77  95 102]]\n",
      "-----------------------------------\n",
      "[[  0   0   0 ... 255 255 255]\n",
      " [  0   1 254 ...   1   1   1]]\n"
     ]
    }
   ],
   "source": [
    "print(np.shape(nptestdiff2))\n",
    "\n",
    "print(nptest[1][3])\n",
    "print(nptest[1][4])\n",
    "print(nptestdiff2[1][4])\n",
    "print(nptest[1:5][1:5])\n",
    "print(\"-----------------------------------\")\n",
    "print(nptestdiff2[1:4][1:4])\n"
   ]
  },
  {
   "cell_type": "code",
   "execution_count": 75,
   "metadata": {},
   "outputs": [
    {
     "ename": "ValueError",
     "evalue": "cannot copy sequence with size 144151 to array axis with dimension 1",
     "output_type": "error",
     "traceback": [
      "\u001b[1;31m---------------------------------------------------------------------------\u001b[0m",
      "\u001b[1;31mValueError\u001b[0m                                Traceback (most recent call last)",
      "\u001b[1;32m<ipython-input-75-ac94672b218d>\u001b[0m in \u001b[0;36m<module>\u001b[1;34m\u001b[0m\n\u001b[0;32m      1\u001b[0m \u001b[0mtest255\u001b[0m \u001b[1;33m=\u001b[0m \u001b[0mnp\u001b[0m\u001b[1;33m.\u001b[0m\u001b[0mzeros\u001b[0m\u001b[1;33m(\u001b[0m\u001b[1;33m(\u001b[0m\u001b[0mlen\u001b[0m\u001b[1;33m(\u001b[0m\u001b[0mnptestdiff2\u001b[0m\u001b[1;33m)\u001b[0m\u001b[1;33m,\u001b[0m\u001b[1;36m1\u001b[0m\u001b[1;33m)\u001b[0m\u001b[1;33m)\u001b[0m\u001b[1;33m\u001b[0m\u001b[1;33m\u001b[0m\u001b[0m\n\u001b[0;32m      2\u001b[0m \u001b[1;32mfor\u001b[0m \u001b[0mi\u001b[0m \u001b[1;32min\u001b[0m \u001b[0mrange\u001b[0m\u001b[1;33m(\u001b[0m\u001b[1;36m0\u001b[0m\u001b[1;33m,\u001b[0m\u001b[0mlen\u001b[0m\u001b[1;33m(\u001b[0m\u001b[0mnptestdiff2\u001b[0m\u001b[1;33m)\u001b[0m\u001b[1;33m)\u001b[0m\u001b[1;33m:\u001b[0m\u001b[1;33m\u001b[0m\u001b[1;33m\u001b[0m\u001b[0m\n\u001b[1;32m----> 3\u001b[1;33m     \u001b[0mtest255\u001b[0m\u001b[1;33m[\u001b[0m\u001b[0mi\u001b[0m\u001b[1;33m]\u001b[0m \u001b[1;33m=\u001b[0m \u001b[1;33m[\u001b[0m\u001b[0mx\u001b[0m\u001b[1;33m-\u001b[0m\u001b[1;36m255\u001b[0m \u001b[1;32mfor\u001b[0m \u001b[0mx\u001b[0m \u001b[1;32min\u001b[0m \u001b[0mnptestdiff2\u001b[0m\u001b[1;33m[\u001b[0m\u001b[0mi\u001b[0m\u001b[1;33m]\u001b[0m \u001b[1;32mif\u001b[0m \u001b[0mx\u001b[0m \u001b[1;33m>\u001b[0m \u001b[1;36m127\u001b[0m\u001b[1;33m]\u001b[0m\u001b[1;33m\u001b[0m\u001b[1;33m\u001b[0m\u001b[0m\n\u001b[0m",
      "\u001b[1;31mValueError\u001b[0m: cannot copy sequence with size 144151 to array axis with dimension 1"
     ]
    }
   ],
   "source": [
    "test255 = np.zeros((len(nptestdiff2),1))\n",
    "for i in range(0,len(nptestdiff2)):\n",
    "    test255[i] = [x-255 for x in nptestdiff2[i] if x > 127]"
   ]
  },
  {
   "cell_type": "code",
   "execution_count": 86,
   "metadata": {},
   "outputs": [
    {
     "name": "stdout",
     "output_type": "stream",
     "text": [
      "Current iteration:  1\n",
      "Current iteration:  2\n",
      "Current iteration:  3\n",
      "Current iteration:  4\n"
     ]
    }
   ],
   "source": [
    "# project flatten\n",
    "\n",
    "a = frames\n",
    "a = np.asarray(a)\n",
    "b = []\n",
    "for i in range(1,5):#len(frames)):\n",
    "    d = np.ndarray.flatten(a[i]) - np.ndarray.flatten(a[i-1])\n",
    "    d = [x - 255 for x in d if x > 127]\n",
    "    b.append(d)\n",
    "    print(\"Current iteration: \", i)\n",
    "#a = np.ndarray.flatten(a)"
   ]
  },
  {
   "cell_type": "code",
   "execution_count": 88,
   "metadata": {},
   "outputs": [
    {
     "name": "stderr",
     "output_type": "stream",
     "text": [
      "IOPub data rate exceeded.\n",
      "The notebook server will temporarily stop sending output\n",
      "to the client in order to avoid crashing it.\n",
      "To change this limit, set the config variable\n",
      "`--NotebookApp.iopub_data_rate_limit`.\n",
      "\n",
      "Current values:\n",
      "NotebookApp.iopub_data_rate_limit=1000000.0 (bytes/sec)\n",
      "NotebookApp.rate_limit_window=3.0 (secs)\n",
      "\n"
     ]
    }
   ],
   "source": [
    "print(np.shape(b))\n",
    "print(b[1:4][1:4])"
   ]
  },
  {
   "cell_type": "code",
   "execution_count": 34,
   "metadata": {},
   "outputs": [
    {
     "name": "stdout",
     "output_type": "stream",
     "text": [
      "1920\n",
      "1920\n",
      "1080\n"
     ]
    }
   ],
   "source": [
    "print(len(frames[1][1]))\n",
    "print(len(frames[1][2]))\n",
    "print(len(frames[1]))"
   ]
  },
  {
   "cell_type": "code",
   "execution_count": 21,
   "metadata": {},
   "outputs": [],
   "source": [
    "ls = []\n",
    "for file in os.listdir(\"train_sample_videos/\"):\n",
    "    if file.endswith(\".mp4\"):\n",
    "        ls.append(file)\n",
    "#print(ls)"
   ]
  },
  {
   "cell_type": "code",
   "execution_count": 24,
   "metadata": {},
   "outputs": [
    {
     "name": "stdout",
     "output_type": "stream",
     "text": [
      "aagfhgtpmv.mp4\n"
     ]
    }
   ],
   "source": [
    "ls[0:1]\n",
    "print(ls[0])"
   ]
  },
  {
   "cell_type": "code",
   "execution_count": 27,
   "metadata": {},
   "outputs": [],
   "source": [
    "def frame_loader(video):\n",
    "    \n",
    "    cap = cv2.VideoCapture(video)\n",
    "\n",
    "    frames = []\n",
    "    while(cap.isOpened()):\n",
    "        ret, frame = cap.read()\n",
    "        if ret==True:\n",
    "            frames.append(frame)\n",
    "            if cv2.waitKey(1) & 0xFF == ord('q'):\n",
    "                break\n",
    "        else:\n",
    "            break\n",
    "    cap.release()\n",
    "    #for frame in frames:\n",
    "        \n",
    "\n",
    "    print('The number of frames saved: ', len(frames))\n",
    "\n",
    "def iterator(liste):\n",
    "    frames = []\n",
    "    for video_file in liste:\n",
    "        #video_file = 'akxoopqjqz.mp4'\n",
    "        frames.append([video_file, frame_loader(video_file)])\n",
    "    return frames\n",
    "        \n"
   ]
  },
  {
   "cell_type": "code",
   "execution_count": 28,
   "metadata": {},
   "outputs": [
    {
     "name": "stdout",
     "output_type": "stream",
     "text": [
      "The number of frames saved:  0\n"
     ]
    }
   ],
   "source": [
    "all_frames = frame_loader(ls[0])"
   ]
  },
  {
   "cell_type": "code",
   "execution_count": 14,
   "metadata": {},
   "outputs": [
    {
     "name": "stdout",
     "output_type": "stream",
     "text": [
      "300\n",
      "1080\n",
      "1920\n",
      "3\n"
     ]
    }
   ],
   "source": [
    "print(len(frames))\n",
    "print(len(frames[1]))\n",
    "print(len(frames[1][1]))\n",
    "print(len(frames[1][1][1]))\n",
    "\n",
    "x = range(0,len(frames))\n",
    "i = 0\n",
    "indeces = [[],[]]\n",
    "for n in x: \n",
    "    if n%2 == 0:\n",
    "        indeces[0].append(i)\n",
    "        j = i + 1\n",
    "        indeces[1].append(j)\n",
    "    i+=1"
   ]
  },
  {
   "cell_type": "code",
   "execution_count": 16,
   "metadata": {},
   "outputs": [
    {
     "name": "stdout",
     "output_type": "stream",
     "text": [
      "[[[140 165 166]\n",
      "  [140 165 166]\n",
      "  [140 165 166]\n",
      "  ...\n",
      "  [106 132 135]\n",
      "  [104 130 133]\n",
      "  [101 127 130]]\n",
      "\n",
      " [[140 165 166]\n",
      "  [140 165 166]\n",
      "  [140 165 166]\n",
      "  ...\n",
      "  [104 130 133]\n",
      "  [103 129 132]\n",
      "  [101 127 130]]\n",
      "\n",
      " [[140 165 166]\n",
      "  [140 165 166]\n",
      "  [140 165 166]\n",
      "  ...\n",
      "  [101 127 130]\n",
      "  [103 129 132]\n",
      "  [103 129 132]]\n",
      "\n",
      " ...\n",
      "\n",
      " [[102 123 127]\n",
      "  [102 123 127]\n",
      "  [102 123 127]\n",
      "  ...\n",
      "  [ 75  95 102]\n",
      "  [ 75  95 102]\n",
      "  [ 75  95 102]]\n",
      "\n",
      " [[102 123 127]\n",
      "  [102 123 127]\n",
      "  [102 123 127]\n",
      "  ...\n",
      "  [ 75  95 102]\n",
      "  [ 75  95 102]\n",
      "  [ 75  95 102]]\n",
      "\n",
      " [[101 122 126]\n",
      "  [101 122 126]\n",
      "  [101 122 126]\n",
      "  ...\n",
      "  [ 75  95 102]\n",
      "  [ 75  95 102]\n",
      "  [ 75  95 102]]]\n"
     ]
    }
   ],
   "source": [
    "print(len(frames[0])"
   ]
  },
  {
   "cell_type": "code",
   "execution_count": null,
   "metadata": {},
   "outputs": [],
   "source": []
  },
  {
   "cell_type": "code",
   "execution_count": null,
   "metadata": {},
   "outputs": [],
   "source": []
  },
  {
   "cell_type": "code",
   "execution_count": null,
   "metadata": {},
   "outputs": [],
   "source": []
  }
 ],
 "metadata": {
  "kernelspec": {
   "display_name": "Python 3",
   "language": "python",
   "name": "python3"
  },
  "language_info": {
   "codemirror_mode": {
    "name": "ipython",
    "version": 3
   },
   "file_extension": ".py",
   "mimetype": "text/x-python",
   "name": "python",
   "nbconvert_exporter": "python",
   "pygments_lexer": "ipython3",
   "version": "3.6.10"
  }
 },
 "nbformat": 4,
 "nbformat_minor": 2
}

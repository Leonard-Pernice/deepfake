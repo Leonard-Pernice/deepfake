{
 "cells": [
  {
   "cell_type": "markdown",
   "metadata": {},
   "source": [
    "## Import Libraries and Load Data"
   ]
  },
  {
   "cell_type": "code",
   "execution_count": 3,
   "metadata": {},
   "outputs": [],
   "source": [
    "import os\n",
    "import IPython.display as ipd\n",
    "import pandas as pd\n",
    "import matplotlib.pylab as plt\n",
    "import cv2\n",
    "import numpy as np"
   ]
  },
  {
   "cell_type": "code",
   "execution_count": 4,
   "metadata": {},
   "outputs": [],
   "source": [
    "path = \"C:/Users/Melchior/Desktop/DeepFake Challenge/Data/aassnaulhq.mp4\"\n",
    "os.chdir(path)"
   ]
  },
  {
   "cell_type": "code",
   "execution_count": 4,
   "metadata": {},
   "outputs": [
    {
     "name": "stdout",
     "output_type": "stream",
     "text": [
      "The number of frames saved:  299\n"
     ]
    }
   ],
   "source": [
    "video_file = 'aassnaulhq.mp4'\n",
    "\n",
    "cap = cv2.VideoCapture(video_file)\n",
    "\n",
    "frames = []\n",
    "while(cap.isOpened()):\n",
    "    ret, frame = cap.read()\n",
    "    if ret==True:\n",
    "        frames.append(frame) \n",
    "        if cv2.waitKey(1) & 0xFF == ord('q'):\n",
    "            break\n",
    "    else:\n",
    "        break\n",
    "cap.release()\n",
    "\n",
    "print('The number of frames saved: ', len(frames))"
   ]
  },
  {
   "cell_type": "code",
   "execution_count": 5,
   "metadata": {},
   "outputs": [
    {
     "data": {
      "text/plain": [
       "list"
      ]
     },
     "execution_count": 5,
     "metadata": {},
     "output_type": "execute_result"
    }
   ],
   "source": [
    "type(frames)"
   ]
  },
  {
   "cell_type": "markdown",
   "metadata": {},
   "source": [
    "## 1. Compute the Differences Between Frames\n",
    "* Turn frames into vectors\n",
    "* Compute the difference between frames"
   ]
  },
  {
   "cell_type": "code",
   "execution_count": 40,
   "metadata": {},
   "outputs": [],
   "source": [
    "frames = np.asanyarray(frames)"
   ]
  },
  {
   "cell_type": "code",
   "execution_count": 41,
   "metadata": {},
   "outputs": [
    {
     "data": {
      "text/plain": [
       "(299, 1080, 1920, 3)"
      ]
     },
     "execution_count": 41,
     "metadata": {},
     "output_type": "execute_result"
    }
   ],
   "source": [
    "frames.shape"
   ]
  },
  {
   "cell_type": "code",
   "execution_count": 48,
   "metadata": {},
   "outputs": [],
   "source": [
    "# Use transpose to make np.diff() work... The function subracts columns and thus the frames have to be in the columns.\n",
    "\n",
    "framesVectors = frames.reshape(299, 1080*1920*3).transpose()"
   ]
  },
  {
   "cell_type": "code",
   "execution_count": 49,
   "metadata": {},
   "outputs": [
    {
     "data": {
      "text/plain": [
       "(6220800, 299)"
      ]
     },
     "execution_count": 49,
     "metadata": {},
     "output_type": "execute_result"
    }
   ],
   "source": [
    "framesVectors.shape"
   ]
  },
  {
   "cell_type": "code",
   "execution_count": 50,
   "metadata": {},
   "outputs": [],
   "source": [
    "framesVectorsDiff = np.diff(framesVectors)"
   ]
  },
  {
   "cell_type": "code",
   "execution_count": 51,
   "metadata": {},
   "outputs": [
    {
     "data": {
      "text/plain": [
       "(6220800, 298)"
      ]
     },
     "execution_count": 51,
     "metadata": {},
     "output_type": "execute_result"
    }
   ],
   "source": [
    "# We lost one column so everything worked out just fine!\n",
    "\n",
    "framesVectorsDiff.shape"
   ]
  },
  {
   "cell_type": "code",
   "execution_count": 52,
   "metadata": {},
   "outputs": [
    {
     "data": {
      "text/html": [
       "<div>\n",
       "<style scoped>\n",
       "    .dataframe tbody tr th:only-of-type {\n",
       "        vertical-align: middle;\n",
       "    }\n",
       "\n",
       "    .dataframe tbody tr th {\n",
       "        vertical-align: top;\n",
       "    }\n",
       "\n",
       "    .dataframe thead th {\n",
       "        text-align: right;\n",
       "    }\n",
       "</style>\n",
       "<table border=\"1\" class=\"dataframe\">\n",
       "  <thead>\n",
       "    <tr style=\"text-align: right;\">\n",
       "      <th></th>\n",
       "      <th>0</th>\n",
       "      <th>1</th>\n",
       "      <th>2</th>\n",
       "      <th>3</th>\n",
       "      <th>4</th>\n",
       "      <th>5</th>\n",
       "      <th>6</th>\n",
       "      <th>7</th>\n",
       "      <th>8</th>\n",
       "      <th>9</th>\n",
       "      <th>...</th>\n",
       "      <th>288</th>\n",
       "      <th>289</th>\n",
       "      <th>290</th>\n",
       "      <th>291</th>\n",
       "      <th>292</th>\n",
       "      <th>293</th>\n",
       "      <th>294</th>\n",
       "      <th>295</th>\n",
       "      <th>296</th>\n",
       "      <th>297</th>\n",
       "    </tr>\n",
       "  </thead>\n",
       "  <tbody>\n",
       "    <tr>\n",
       "      <th>0</th>\n",
       "      <td>245</td>\n",
       "      <td>223</td>\n",
       "      <td>12</td>\n",
       "      <td>7</td>\n",
       "      <td>10</td>\n",
       "      <td>11</td>\n",
       "      <td>244</td>\n",
       "      <td>12</td>\n",
       "      <td>237</td>\n",
       "      <td>20</td>\n",
       "      <td>...</td>\n",
       "      <td>6</td>\n",
       "      <td>235</td>\n",
       "      <td>33</td>\n",
       "      <td>2</td>\n",
       "      <td>0</td>\n",
       "      <td>7</td>\n",
       "      <td>239</td>\n",
       "      <td>21</td>\n",
       "      <td>218</td>\n",
       "      <td>7</td>\n",
       "    </tr>\n",
       "    <tr>\n",
       "      <th>1</th>\n",
       "      <td>242</td>\n",
       "      <td>224</td>\n",
       "      <td>28</td>\n",
       "      <td>241</td>\n",
       "      <td>16</td>\n",
       "      <td>17</td>\n",
       "      <td>229</td>\n",
       "      <td>21</td>\n",
       "      <td>242</td>\n",
       "      <td>12</td>\n",
       "      <td>...</td>\n",
       "      <td>13</td>\n",
       "      <td>238</td>\n",
       "      <td>26</td>\n",
       "      <td>238</td>\n",
       "      <td>255</td>\n",
       "      <td>11</td>\n",
       "      <td>249</td>\n",
       "      <td>20</td>\n",
       "      <td>223</td>\n",
       "      <td>18</td>\n",
       "    </tr>\n",
       "    <tr>\n",
       "      <th>2</th>\n",
       "      <td>247</td>\n",
       "      <td>219</td>\n",
       "      <td>21</td>\n",
       "      <td>254</td>\n",
       "      <td>10</td>\n",
       "      <td>7</td>\n",
       "      <td>252</td>\n",
       "      <td>15</td>\n",
       "      <td>241</td>\n",
       "      <td>9</td>\n",
       "      <td>...</td>\n",
       "      <td>7</td>\n",
       "      <td>244</td>\n",
       "      <td>27</td>\n",
       "      <td>249</td>\n",
       "      <td>1</td>\n",
       "      <td>1</td>\n",
       "      <td>232</td>\n",
       "      <td>36</td>\n",
       "      <td>209</td>\n",
       "      <td>11</td>\n",
       "    </tr>\n",
       "    <tr>\n",
       "      <th>3</th>\n",
       "      <td>251</td>\n",
       "      <td>228</td>\n",
       "      <td>13</td>\n",
       "      <td>6</td>\n",
       "      <td>9</td>\n",
       "      <td>6</td>\n",
       "      <td>252</td>\n",
       "      <td>14</td>\n",
       "      <td>227</td>\n",
       "      <td>23</td>\n",
       "      <td>...</td>\n",
       "      <td>3</td>\n",
       "      <td>231</td>\n",
       "      <td>30</td>\n",
       "      <td>3</td>\n",
       "      <td>255</td>\n",
       "      <td>7</td>\n",
       "      <td>238</td>\n",
       "      <td>18</td>\n",
       "      <td>233</td>\n",
       "      <td>251</td>\n",
       "    </tr>\n",
       "    <tr>\n",
       "      <th>4</th>\n",
       "      <td>248</td>\n",
       "      <td>229</td>\n",
       "      <td>29</td>\n",
       "      <td>240</td>\n",
       "      <td>15</td>\n",
       "      <td>12</td>\n",
       "      <td>237</td>\n",
       "      <td>23</td>\n",
       "      <td>232</td>\n",
       "      <td>15</td>\n",
       "      <td>...</td>\n",
       "      <td>10</td>\n",
       "      <td>234</td>\n",
       "      <td>23</td>\n",
       "      <td>239</td>\n",
       "      <td>254</td>\n",
       "      <td>11</td>\n",
       "      <td>248</td>\n",
       "      <td>17</td>\n",
       "      <td>238</td>\n",
       "      <td>6</td>\n",
       "    </tr>\n",
       "  </tbody>\n",
       "</table>\n",
       "<p>5 rows × 298 columns</p>\n",
       "</div>"
      ],
      "text/plain": [
       "   0    1    2    3    4    5    6    7    8    9    ...  288  289  290  291  \\\n",
       "0  245  223   12    7   10   11  244   12  237   20  ...    6  235   33    2   \n",
       "1  242  224   28  241   16   17  229   21  242   12  ...   13  238   26  238   \n",
       "2  247  219   21  254   10    7  252   15  241    9  ...    7  244   27  249   \n",
       "3  251  228   13    6    9    6  252   14  227   23  ...    3  231   30    3   \n",
       "4  248  229   29  240   15   12  237   23  232   15  ...   10  234   23  239   \n",
       "\n",
       "   292  293  294  295  296  297  \n",
       "0    0    7  239   21  218    7  \n",
       "1  255   11  249   20  223   18  \n",
       "2    1    1  232   36  209   11  \n",
       "3  255    7  238   18  233  251  \n",
       "4  254   11  248   17  238    6  \n",
       "\n",
       "[5 rows x 298 columns]"
      ]
     },
     "execution_count": 52,
     "metadata": {},
     "output_type": "execute_result"
    }
   ],
   "source": [
    "framesVectorsDiffDF = pd.DataFrame(framesVectorsDiff)\n",
    "framesVectorsDiffDF.head()"
   ]
  },
  {
   "cell_type": "markdown",
   "metadata": {},
   "source": [
    "* We can ignore the cases where the computer does not allow negatives... \n",
    "* To the machine it does not matter whether they are upside down as long as the pattern stays the same, i.e. if the change is consistent\n",
    "\n",
    "**Compare the output to the original, i.e. non differenced frame to check whether differencing worked**"
   ]
  },
  {
   "cell_type": "code",
   "execution_count": 53,
   "metadata": {},
   "outputs": [
    {
     "data": {
      "text/html": [
       "<div>\n",
       "<style scoped>\n",
       "    .dataframe tbody tr th:only-of-type {\n",
       "        vertical-align: middle;\n",
       "    }\n",
       "\n",
       "    .dataframe tbody tr th {\n",
       "        vertical-align: top;\n",
       "    }\n",
       "\n",
       "    .dataframe thead th {\n",
       "        text-align: right;\n",
       "    }\n",
       "</style>\n",
       "<table border=\"1\" class=\"dataframe\">\n",
       "  <thead>\n",
       "    <tr style=\"text-align: right;\">\n",
       "      <th></th>\n",
       "      <th>0</th>\n",
       "      <th>1</th>\n",
       "      <th>2</th>\n",
       "      <th>3</th>\n",
       "      <th>4</th>\n",
       "      <th>5</th>\n",
       "      <th>6</th>\n",
       "      <th>7</th>\n",
       "      <th>8</th>\n",
       "      <th>9</th>\n",
       "      <th>...</th>\n",
       "      <th>289</th>\n",
       "      <th>290</th>\n",
       "      <th>291</th>\n",
       "      <th>292</th>\n",
       "      <th>293</th>\n",
       "      <th>294</th>\n",
       "      <th>295</th>\n",
       "      <th>296</th>\n",
       "      <th>297</th>\n",
       "      <th>298</th>\n",
       "    </tr>\n",
       "  </thead>\n",
       "  <tbody>\n",
       "    <tr>\n",
       "      <th>0</th>\n",
       "      <td>141</td>\n",
       "      <td>130</td>\n",
       "      <td>97</td>\n",
       "      <td>109</td>\n",
       "      <td>116</td>\n",
       "      <td>126</td>\n",
       "      <td>137</td>\n",
       "      <td>125</td>\n",
       "      <td>137</td>\n",
       "      <td>118</td>\n",
       "      <td>...</td>\n",
       "      <td>120</td>\n",
       "      <td>99</td>\n",
       "      <td>132</td>\n",
       "      <td>134</td>\n",
       "      <td>134</td>\n",
       "      <td>141</td>\n",
       "      <td>124</td>\n",
       "      <td>145</td>\n",
       "      <td>107</td>\n",
       "      <td>114</td>\n",
       "    </tr>\n",
       "    <tr>\n",
       "      <th>1</th>\n",
       "      <td>146</td>\n",
       "      <td>132</td>\n",
       "      <td>100</td>\n",
       "      <td>128</td>\n",
       "      <td>113</td>\n",
       "      <td>129</td>\n",
       "      <td>146</td>\n",
       "      <td>119</td>\n",
       "      <td>140</td>\n",
       "      <td>126</td>\n",
       "      <td>...</td>\n",
       "      <td>139</td>\n",
       "      <td>121</td>\n",
       "      <td>147</td>\n",
       "      <td>129</td>\n",
       "      <td>128</td>\n",
       "      <td>139</td>\n",
       "      <td>132</td>\n",
       "      <td>152</td>\n",
       "      <td>119</td>\n",
       "      <td>137</td>\n",
       "    </tr>\n",
       "    <tr>\n",
       "      <th>2</th>\n",
       "      <td>157</td>\n",
       "      <td>148</td>\n",
       "      <td>111</td>\n",
       "      <td>132</td>\n",
       "      <td>130</td>\n",
       "      <td>140</td>\n",
       "      <td>147</td>\n",
       "      <td>143</td>\n",
       "      <td>158</td>\n",
       "      <td>143</td>\n",
       "      <td>...</td>\n",
       "      <td>143</td>\n",
       "      <td>131</td>\n",
       "      <td>158</td>\n",
       "      <td>151</td>\n",
       "      <td>152</td>\n",
       "      <td>153</td>\n",
       "      <td>129</td>\n",
       "      <td>165</td>\n",
       "      <td>118</td>\n",
       "      <td>129</td>\n",
       "    </tr>\n",
       "    <tr>\n",
       "      <th>3</th>\n",
       "      <td>136</td>\n",
       "      <td>131</td>\n",
       "      <td>103</td>\n",
       "      <td>116</td>\n",
       "      <td>122</td>\n",
       "      <td>131</td>\n",
       "      <td>137</td>\n",
       "      <td>133</td>\n",
       "      <td>147</td>\n",
       "      <td>118</td>\n",
       "      <td>...</td>\n",
       "      <td>128</td>\n",
       "      <td>103</td>\n",
       "      <td>133</td>\n",
       "      <td>136</td>\n",
       "      <td>135</td>\n",
       "      <td>142</td>\n",
       "      <td>124</td>\n",
       "      <td>142</td>\n",
       "      <td>119</td>\n",
       "      <td>114</td>\n",
       "    </tr>\n",
       "    <tr>\n",
       "      <th>4</th>\n",
       "      <td>141</td>\n",
       "      <td>133</td>\n",
       "      <td>106</td>\n",
       "      <td>135</td>\n",
       "      <td>119</td>\n",
       "      <td>134</td>\n",
       "      <td>146</td>\n",
       "      <td>127</td>\n",
       "      <td>150</td>\n",
       "      <td>126</td>\n",
       "      <td>...</td>\n",
       "      <td>147</td>\n",
       "      <td>125</td>\n",
       "      <td>148</td>\n",
       "      <td>131</td>\n",
       "      <td>129</td>\n",
       "      <td>140</td>\n",
       "      <td>132</td>\n",
       "      <td>149</td>\n",
       "      <td>131</td>\n",
       "      <td>137</td>\n",
       "    </tr>\n",
       "  </tbody>\n",
       "</table>\n",
       "<p>5 rows × 299 columns</p>\n",
       "</div>"
      ],
      "text/plain": [
       "   0    1    2    3    4    5    6    7    8    9    ...  289  290  291  292  \\\n",
       "0  141  130   97  109  116  126  137  125  137  118  ...  120   99  132  134   \n",
       "1  146  132  100  128  113  129  146  119  140  126  ...  139  121  147  129   \n",
       "2  157  148  111  132  130  140  147  143  158  143  ...  143  131  158  151   \n",
       "3  136  131  103  116  122  131  137  133  147  118  ...  128  103  133  136   \n",
       "4  141  133  106  135  119  134  146  127  150  126  ...  147  125  148  131   \n",
       "\n",
       "   293  294  295  296  297  298  \n",
       "0  134  141  124  145  107  114  \n",
       "1  128  139  132  152  119  137  \n",
       "2  152  153  129  165  118  129  \n",
       "3  135  142  124  142  119  114  \n",
       "4  129  140  132  149  131  137  \n",
       "\n",
       "[5 rows x 299 columns]"
      ]
     },
     "execution_count": 53,
     "metadata": {},
     "output_type": "execute_result"
    }
   ],
   "source": [
    "framesVectorsDF = pd.DataFrame(framesVectors)\n",
    "framesVectorsDF.head()"
   ]
  },
  {
   "cell_type": "markdown",
   "metadata": {},
   "source": [
    "## 2. Read In Multiple Files in Loop"
   ]
  },
  {
   "cell_type": "code",
   "execution_count": 12,
   "metadata": {},
   "outputs": [],
   "source": [
    "VideoList = []\n",
    "for file in os.listdir(path):\n",
    "    if file.endswith(\".mp4\"):\n",
    "        VideoList.append(file)"
   ]
  },
  {
   "cell_type": "code",
   "execution_count": 15,
   "metadata": {},
   "outputs": [
    {
     "name": "stdout",
     "output_type": "stream",
     "text": [
      "aassnaulhq.mp4\n",
      "aassnaulhq1.mp4\n",
      "aassnaulhq2.mp4\n",
      "aassnaulhq3.mp4\n"
     ]
    }
   ],
   "source": [
    "for i in VideoList:\n",
    "    print(i)"
   ]
  },
  {
   "cell_type": "code",
   "execution_count": 31,
   "metadata": {},
   "outputs": [
    {
     "name": "stdout",
     "output_type": "stream",
     "text": [
      "25.0 % of Videos have been loaded.\n",
      "50.0 % of Videos have been loaded.\n",
      "75.0 % of Videos have been loaded.\n",
      "100.0 % of Videos have been loaded.\n"
     ]
    }
   ],
   "source": [
    "AllFrames = list()\n",
    "\n",
    "for i in range(len(VideoList)):\n",
    "    cap = cv2.VideoCapture(VideoList[i])\n",
    "\n",
    "    frames = []\n",
    "    while(cap.isOpened()):\n",
    "        ret, frame = cap.read()\n",
    "        if ret==True:\n",
    "            frames.append(frame) \n",
    "            if cv2.waitKey(1) & 0xFF == ord('q'):\n",
    "                break\n",
    "        else:\n",
    "            break\n",
    "    cap.release()\n",
    "    \n",
    "    frames = np.asanyarray(frames)\n",
    "    \n",
    "    framesVectors = frames.reshape(299, 1080*1920*3).transpose()\n",
    "    \n",
    "    framesVectorsDiff = np.diff(framesVectors)\n",
    "    \n",
    "    AllFrames.append(frames)\n",
    "    \n",
    "    print(((i+1)/len(VideoList))*100, \"% of Videos have been loaded.\")"
   ]
  },
  {
   "cell_type": "code",
   "execution_count": null,
   "metadata": {},
   "outputs": [],
   "source": []
  }
 ],
 "metadata": {
  "kernelspec": {
   "display_name": "Python 3",
   "language": "python",
   "name": "python3"
  },
  "language_info": {
   "codemirror_mode": {
    "name": "ipython",
    "version": 3
   },
   "file_extension": ".py",
   "mimetype": "text/x-python",
   "name": "python",
   "nbconvert_exporter": "python",
   "pygments_lexer": "ipython3",
   "version": "3.6.10"
  }
 },
 "nbformat": 4,
 "nbformat_minor": 2
}
